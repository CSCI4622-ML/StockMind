{
 "cells": [
  {
   "cell_type": "code",
   "execution_count": 19,
   "metadata": {},
   "outputs": [],
   "source": [
    "import torch\n",
    "import torch.nn as nn\n",
    "import torch.nn.functional as F\n",
    "import torch.optim as optim\n",
    "from torch.utils.data import DataLoader, random_split, TensorDataset\n",
    "import numpy as np\n",
    "import pandas as pd\n",
    "import matplotlib.pyplot as plt\n",
    "\n",
    "import os\n",
    "from sklearn.preprocessing import MinMaxScaler\n"
   ]
  },
  {
   "cell_type": "code",
   "execution_count": 20,
   "metadata": {},
   "outputs": [],
   "source": [
    "def normalize_dataframe(df):\n",
    "    \"\"\"\n",
    "    Normalizes all columns in a pandas DataFrame  using MinMaxScaler.\n",
    "\n",
    "    Args:\n",
    "        df (pandas.DataFrame): The input DataFrame.\n",
    "\n",
    "    Returns:\n",
    "        pandas.DataFrame: The normalized DataFrame.\n",
    "    \"\"\"\n",
    "    scaler = MinMaxScaler()\n",
    "    columns_to_normalize = [col for col in df.columns]\n",
    "    df[columns_to_normalize] = scaler.fit_transform(df[columns_to_normalize])\n",
    "    return df"
   ]
  },
  {
   "cell_type": "code",
   "execution_count": 21,
   "metadata": {},
   "outputs": [],
   "source": [
    "def add_up_column(df):\n",
    "    # Create empty 'up' and 'down' columns\n",
    "    df['up'] = np.nan\n",
    "    \n",
    "    # Loop over the rows (skipping the first row)\n",
    "    for i in range(0, len(df)-1):\n",
    "        if df.loc[i+1, '4. close'] > df.loc[i, '4. close']:\n",
    "            df.loc[i, 'up'] = 1\n",
    "        else:\n",
    "            df.loc[i, 'up'] = 0\n",
    "    return df"
   ]
  },
  {
   "cell_type": "code",
   "execution_count": 22,
   "metadata": {},
   "outputs": [
    {
     "data": {
      "text/html": [
       "<div>\n",
       "<style scoped>\n",
       "    .dataframe tbody tr th:only-of-type {\n",
       "        vertical-align: middle;\n",
       "    }\n",
       "\n",
       "    .dataframe tbody tr th {\n",
       "        vertical-align: top;\n",
       "    }\n",
       "\n",
       "    .dataframe thead th {\n",
       "        text-align: right;\n",
       "    }\n",
       "</style>\n",
       "<table border=\"1\" class=\"dataframe\">\n",
       "  <thead>\n",
       "    <tr style=\"text-align: right;\">\n",
       "      <th></th>\n",
       "      <th>Chaikin A/D</th>\n",
       "      <th>ADOSC</th>\n",
       "      <th>ADX</th>\n",
       "      <th>ADXR</th>\n",
       "      <th>APO</th>\n",
       "      <th>Aroon Down</th>\n",
       "      <th>Aroon Up</th>\n",
       "      <th>AROONOSC</th>\n",
       "      <th>ATR</th>\n",
       "      <th>Real Upper Band</th>\n",
       "      <th>...</th>\n",
       "      <th>1. open</th>\n",
       "      <th>2. high</th>\n",
       "      <th>3. low</th>\n",
       "      <th>4. close</th>\n",
       "      <th>5. adjusted close</th>\n",
       "      <th>6. volume</th>\n",
       "      <th>7. dividend amount</th>\n",
       "      <th>8. split coefficient</th>\n",
       "      <th>company</th>\n",
       "      <th>up</th>\n",
       "    </tr>\n",
       "  </thead>\n",
       "  <tbody>\n",
       "    <tr>\n",
       "      <th>54039</th>\n",
       "      <td>0.836382</td>\n",
       "      <td>0.618820</td>\n",
       "      <td>0.098034</td>\n",
       "      <td>0.135600</td>\n",
       "      <td>0.750070</td>\n",
       "      <td>0.20</td>\n",
       "      <td>0.85</td>\n",
       "      <td>0.825</td>\n",
       "      <td>0.349887</td>\n",
       "      <td>0.916590</td>\n",
       "      <td>...</td>\n",
       "      <td>0.775004</td>\n",
       "      <td>0.777489</td>\n",
       "      <td>0.784578</td>\n",
       "      <td>0.780133</td>\n",
       "      <td>0.910496</td>\n",
       "      <td>0.049474</td>\n",
       "      <td>0.0</td>\n",
       "      <td>0.0</td>\n",
       "      <td>10</td>\n",
       "      <td>1.0</td>\n",
       "    </tr>\n",
       "    <tr>\n",
       "      <th>54040</th>\n",
       "      <td>0.838415</td>\n",
       "      <td>0.621788</td>\n",
       "      <td>0.096431</td>\n",
       "      <td>0.133143</td>\n",
       "      <td>0.760952</td>\n",
       "      <td>0.15</td>\n",
       "      <td>0.80</td>\n",
       "      <td>0.825</td>\n",
       "      <td>0.345309</td>\n",
       "      <td>0.918329</td>\n",
       "      <td>...</td>\n",
       "      <td>0.781107</td>\n",
       "      <td>0.788813</td>\n",
       "      <td>0.792659</td>\n",
       "      <td>0.788697</td>\n",
       "      <td>0.918977</td>\n",
       "      <td>0.044222</td>\n",
       "      <td>0.0</td>\n",
       "      <td>0.0</td>\n",
       "      <td>10</td>\n",
       "      <td>0.0</td>\n",
       "    </tr>\n",
       "    <tr>\n",
       "      <th>54041</th>\n",
       "      <td>0.835553</td>\n",
       "      <td>0.613781</td>\n",
       "      <td>0.102918</td>\n",
       "      <td>0.140160</td>\n",
       "      <td>0.779426</td>\n",
       "      <td>0.10</td>\n",
       "      <td>1.00</td>\n",
       "      <td>0.950</td>\n",
       "      <td>0.347403</td>\n",
       "      <td>0.920624</td>\n",
       "      <td>...</td>\n",
       "      <td>0.793524</td>\n",
       "      <td>0.799283</td>\n",
       "      <td>0.797516</td>\n",
       "      <td>0.785984</td>\n",
       "      <td>0.916290</td>\n",
       "      <td>0.042542</td>\n",
       "      <td>0.0</td>\n",
       "      <td>0.0</td>\n",
       "      <td>10</td>\n",
       "      <td>1.0</td>\n",
       "    </tr>\n",
       "    <tr>\n",
       "      <th>54042</th>\n",
       "      <td>0.841508</td>\n",
       "      <td>0.619601</td>\n",
       "      <td>0.112941</td>\n",
       "      <td>0.157132</td>\n",
       "      <td>0.798503</td>\n",
       "      <td>0.05</td>\n",
       "      <td>1.00</td>\n",
       "      <td>0.975</td>\n",
       "      <td>0.353149</td>\n",
       "      <td>0.925806</td>\n",
       "      <td>...</td>\n",
       "      <td>0.791532</td>\n",
       "      <td>0.804615</td>\n",
       "      <td>0.803834</td>\n",
       "      <td>0.806673</td>\n",
       "      <td>0.936779</td>\n",
       "      <td>0.081344</td>\n",
       "      <td>0.0</td>\n",
       "      <td>0.0</td>\n",
       "      <td>10</td>\n",
       "      <td>1.0</td>\n",
       "    </tr>\n",
       "    <tr>\n",
       "      <th>54043</th>\n",
       "      <td>0.843942</td>\n",
       "      <td>0.623524</td>\n",
       "      <td>0.128798</td>\n",
       "      <td>0.174423</td>\n",
       "      <td>0.822713</td>\n",
       "      <td>0.00</td>\n",
       "      <td>1.00</td>\n",
       "      <td>1.000</td>\n",
       "      <td>0.347510</td>\n",
       "      <td>0.931589</td>\n",
       "      <td>...</td>\n",
       "      <td>0.806493</td>\n",
       "      <td>0.813785</td>\n",
       "      <td>0.818619</td>\n",
       "      <td>0.812312</td>\n",
       "      <td>0.942363</td>\n",
       "      <td>0.107260</td>\n",
       "      <td>0.0</td>\n",
       "      <td>0.0</td>\n",
       "      <td>10</td>\n",
       "      <td>NaN</td>\n",
       "    </tr>\n",
       "  </tbody>\n",
       "</table>\n",
       "<p>5 rows × 75 columns</p>\n",
       "</div>"
      ],
      "text/plain": [
       "       Chaikin A/D     ADOSC       ADX      ADXR       APO  Aroon Down  \\\n",
       "54039     0.836382  0.618820  0.098034  0.135600  0.750070        0.20   \n",
       "54040     0.838415  0.621788  0.096431  0.133143  0.760952        0.15   \n",
       "54041     0.835553  0.613781  0.102918  0.140160  0.779426        0.10   \n",
       "54042     0.841508  0.619601  0.112941  0.157132  0.798503        0.05   \n",
       "54043     0.843942  0.623524  0.128798  0.174423  0.822713        0.00   \n",
       "\n",
       "       Aroon Up  AROONOSC       ATR  Real Upper Band  ...   1. open   2. high  \\\n",
       "54039      0.85     0.825  0.349887         0.916590  ...  0.775004  0.777489   \n",
       "54040      0.80     0.825  0.345309         0.918329  ...  0.781107  0.788813   \n",
       "54041      1.00     0.950  0.347403         0.920624  ...  0.793524  0.799283   \n",
       "54042      1.00     0.975  0.353149         0.925806  ...  0.791532  0.804615   \n",
       "54043      1.00     1.000  0.347510         0.931589  ...  0.806493  0.813785   \n",
       "\n",
       "         3. low  4. close  5. adjusted close  6. volume  7. dividend amount  \\\n",
       "54039  0.784578  0.780133           0.910496   0.049474                 0.0   \n",
       "54040  0.792659  0.788697           0.918977   0.044222                 0.0   \n",
       "54041  0.797516  0.785984           0.916290   0.042542                 0.0   \n",
       "54042  0.803834  0.806673           0.936779   0.081344                 0.0   \n",
       "54043  0.818619  0.812312           0.942363   0.107260                 0.0   \n",
       "\n",
       "       8. split coefficient  company   up  \n",
       "54039                   0.0       10  1.0  \n",
       "54040                   0.0       10  0.0  \n",
       "54041                   0.0       10  1.0  \n",
       "54042                   0.0       10  1.0  \n",
       "54043                   0.0       10  NaN  \n",
       "\n",
       "[5 rows x 75 columns]"
      ]
     },
     "execution_count": 22,
     "metadata": {},
     "output_type": "execute_result"
    }
   ],
   "source": [
    "def combine_csvs_from_folder(folder_path):\n",
    "    \"\"\"\n",
    "    Combines all CSV files in a folder into a single pandas DataFrame also normalizes before combining them.\n",
    "\n",
    "    Args:\n",
    "        folder_path (str): The path to the folder containing the CSV files.\n",
    "\n",
    "    Returns:\n",
    "        A pandas DataFrame containing the concatenated data from all CSV files in the input folder.\n",
    "    \"\"\"\n",
    "    # Use a list comprehension to read all CSV files in the folder into a list of DataFrames.\n",
    "    dfs = [pd.read_csv(os.path.join(folder_path, f)) for f in os.listdir(folder_path) if f.endswith('.csv')]\n",
    "    \n",
    "    # Use a list comprehension to get the filenames of all CSV files in the folder.\n",
    "    filenames = [os.path.splitext(os.path.basename(f))[0] for f in os.listdir(folder_path) if f.endswith('.csv')]\n",
    "\n",
    "    processed_dfs = []\n",
    "    i = 0\n",
    "    for df, filename in zip(dfs, filenames):\n",
    "        # Dont need the date column\n",
    "        df = df.drop(['date'], axis=1)\n",
    "        # normalize the dataframes before combining them\n",
    "        df = normalize_dataframe(df)\n",
    "        # for the neural network to understand the company name we need to convert it to a number\n",
    "        df['company'] = i\n",
    "        i += 1\n",
    "        df = add_up_column(df)\n",
    "        processed_dfs.append(df)\n",
    "    combined_df = pd.concat(processed_dfs, ignore_index=True)\n",
    "    \n",
    "    return combined_df\n",
    "\n",
    "df_full = combine_csvs_from_folder('market_data/merged_data')\n",
    "\n",
    "df_full.tail()"
   ]
  },
  {
   "cell_type": "code",
   "execution_count": 23,
   "metadata": {},
   "outputs": [
    {
     "name": "stdout",
     "output_type": "stream",
     "text": [
      "[5786, 11573, 13738, 18320, 24107, 29894, 35681, 38788, 44575, 50362, 54043]\n"
     ]
    }
   ],
   "source": [
    "#we need this for later\n",
    "def find_indices_of_test_rows(df):\n",
    "    indices = []\n",
    "    for i in range(1, len(df)):\n",
    "        if np.isnan(df.loc[i, 'up']):\n",
    "            indices.append(i)\n",
    "    return indices\n",
    "idxs = find_indices_of_test_rows(df_full)\n",
    "print(idxs)\n"
   ]
  },
  {
   "cell_type": "code",
   "execution_count": 24,
   "metadata": {},
   "outputs": [],
   "source": [
    "# we should one hot encode the company column\n",
    "# first we need to change it to a string so we can one hot encode it\n",
    "df_full['company'] = df_full['company'].astype(str)\n",
    "df_full = pd.get_dummies(df_full, columns=['company'])"
   ]
  },
  {
   "cell_type": "code",
   "execution_count": 25,
   "metadata": {},
   "outputs": [],
   "source": [
    "#drop nan rows\n",
    "df_train = df_full.dropna()"
   ]
  },
  {
   "cell_type": "code",
   "execution_count": 26,
   "metadata": {},
   "outputs": [
    {
     "name": "stdout",
     "output_type": "stream",
     "text": [
      "tensor([0.1721, 0.5454, 0.1545, 0.1012, 0.5028, 0.9500, 0.2500, 0.1500, 0.0108,\n",
      "        0.0049, 0.0044, 0.0048, 0.6001, 0.3041, 0.3204, 0.0041, 0.3287, 0.0043,\n",
      "        0.0770, 0.1221, 0.4935, 0.5869, 0.4913, 0.8474, 0.0045, 1.0000, 0.0041,\n",
      "        0.4687, 0.4572, 0.5075, 0.5028, 0.4830, 0.5257, 0.0021, 0.0000, 0.4928,\n",
      "        0.0043, 0.0044, 0.4145, 0.0082, 0.4762, 0.3511, 0.2082, 0.1884, 0.0058,\n",
      "        0.7284, 0.5345, 0.5344, 0.3204, 0.0051, 0.0044, 0.1780, 0.2642, 0.3207,\n",
      "        0.1780, 0.2269, 0.0756, 0.0045, 0.0039, 0.0067, 0.0046, 0.7760, 0.3548,\n",
      "        0.1964, 0.0043, 0.1429, 0.1544, 0.1394, 0.1461, 0.0037, 0.0121, 0.0000,\n",
      "        0.0000, 1.0000, 0.0000, 0.0000, 0.0000, 0.0000, 0.0000, 0.0000, 0.0000,\n",
      "        0.0000, 0.0000, 0.0000])\n",
      "torch.Size([54033, 84])\n",
      "torch.Size([54033, 1])\n"
     ]
    }
   ],
   "source": [
    "# neural networks require tensors, so we need to convert our dataframes to tensors\n",
    "\n",
    "def df_to_tensor(df):\n",
    "    inputs_columns = df.columns[df.columns != 'up']\n",
    "    inputs = torch.from_numpy(df.loc[:, inputs_columns].values.astype('float32'))\n",
    "    targets = torch.from_numpy(df.loc[:, ['up']].values.astype('float32'))\n",
    "    return inputs, targets\n",
    "\n",
    "\n",
    "inputs, targets = df_to_tensor(df_train)\n",
    "print(inputs[0])\n",
    "print(inputs.shape)\n",
    "print(targets.shape)"
   ]
  },
  {
   "cell_type": "code",
   "execution_count": 27,
   "metadata": {},
   "outputs": [],
   "source": [
    "# making a training and validation dataset\n",
    "\n",
    "dataset = TensorDataset(inputs, targets)\n",
    "train_size = int(0.8 * len(dataset))\n",
    "val_size = len(dataset) - train_size\n",
    "train_dataset, val_dataset = random_split(dataset, [train_size, val_size])"
   ]
  },
  {
   "cell_type": "code",
   "execution_count": 28,
   "metadata": {},
   "outputs": [],
   "source": [
    "# pytorch uses dataloaders to load data in batches\n",
    "\n",
    "batch_size = 2**11\n",
    "train_loader = DataLoader(train_dataset, batch_size, shuffle = True, num_workers = 0)\n",
    "val_loader = DataLoader(val_dataset, batch_size, shuffle = False, num_workers = 0)"
   ]
  },
  {
   "cell_type": "code",
   "execution_count": 29,
   "metadata": {},
   "outputs": [
    {
     "name": "stdout",
     "output_type": "stream",
     "text": [
      "cuda:0\n"
     ]
    }
   ],
   "source": [
    "# use gpu if avaliable\n",
    "device = torch.device(\"cuda:0\" if torch.cuda.is_available() else \"cpu\")\n",
    "print(device)"
   ]
  },
  {
   "cell_type": "code",
   "execution_count": 30,
   "metadata": {},
   "outputs": [
    {
     "data": {
      "text/plain": [
       "NN(\n",
       "  (model): Sequential(\n",
       "    (0): Linear(in_features=84, out_features=1028, bias=True)\n",
       "    (1): GELU(approximate='none')\n",
       "    (2): Dropout(p=0.2, inplace=False)\n",
       "    (3): Linear(in_features=1028, out_features=512, bias=True)\n",
       "    (4): GELU(approximate='none')\n",
       "    (5): Dropout(p=0.2, inplace=False)\n",
       "    (6): Linear(in_features=512, out_features=256, bias=True)\n",
       "    (7): GELU(approximate='none')\n",
       "    (8): Dropout(p=0.2, inplace=False)\n",
       "    (9): Linear(in_features=256, out_features=1, bias=True)\n",
       "    (10): Sigmoid()\n",
       "  )\n",
       ")"
      ]
     },
     "execution_count": 30,
     "metadata": {},
     "output_type": "execute_result"
    }
   ],
   "source": [
    "class NN(nn.Module):\n",
    "    def __init__(self, input_size, output_size):\n",
    "        super().__init__()\n",
    "\n",
    "        self.model = nn.Sequential(\n",
    "            nn.Linear(input_size, 1028),\n",
    "            nn.GELU(),\n",
    "            nn.Dropout(0.2),\n",
    "            nn.Linear(1028, 512),\n",
    "            nn.GELU(),\n",
    "            nn.Dropout(0.2),\n",
    "            nn.Linear(512, 256),\n",
    "            nn.GELU(),\n",
    "            nn.Dropout(0.2),\n",
    "            nn.Linear(256, output_size), \n",
    "            nn.Sigmoid()\n",
    "        )\n",
    "\n",
    "        \n",
    "\n",
    "    def forward(self, x):\n",
    "        x = self.model(x)\n",
    "        \n",
    "        return x\n",
    "\n",
    "# input size is 84 because we have 84 columns in our dataframe\n",
    "# output size is 1 because we are predicting up=1 or down=0\n",
    "input_size = 84\n",
    "output_size = 1\n",
    "model = NN(input_size, output_size)\n",
    "model.to(device)"
   ]
  },
  {
   "cell_type": "code",
   "execution_count": 31,
   "metadata": {},
   "outputs": [],
   "source": [
    "# hyperparameters for training\n",
    "criterion = nn.BCELoss()\n",
    "optimizer = optim.Adam(model.parameters())\n",
    "num_epochs = 2500"
   ]
  },
  {
   "cell_type": "code",
   "execution_count": 32,
   "metadata": {},
   "outputs": [
    {
     "name": "stdout",
     "output_type": "stream",
     "text": [
      "epoch: 1, avg_loss: 0.693021991036155\n",
      "epoch: 100, avg_loss: 0.663518878546628\n",
      "epoch: 200, avg_loss: 0.43652715330774133\n",
      "epoch: 300, avg_loss: 0.32449772683056916\n",
      "epoch: 400, avg_loss: 0.2557460760528391\n",
      "epoch: 500, avg_loss: 0.21964832056652417\n",
      "epoch: 600, avg_loss: 0.20169040831652554\n",
      "epoch: 700, avg_loss: 0.17893725498156113\n",
      "epoch: 800, avg_loss: 0.16564702716740695\n",
      "epoch: 900, avg_loss: 0.16335283016616647\n",
      "epoch: 1000, avg_loss: 0.14774042977528137\n",
      "epoch: 1100, avg_loss: 0.1405198286202821\n",
      "epoch: 1200, avg_loss: 0.13560546054081482\n",
      "epoch: 1300, avg_loss: 0.12839272008700806\n",
      "epoch: 1400, avg_loss: 0.12256164814938199\n",
      "epoch: 1500, avg_loss: 0.1187876273285259\n",
      "epoch: 1600, avg_loss: 0.1125081865624948\n",
      "epoch: 1700, avg_loss: 0.11206884546713396\n",
      "epoch: 1800, avg_loss: 0.10762411491437392\n",
      "epoch: 1900, avg_loss: 0.10448303446173668\n",
      "epoch: 2000, avg_loss: 0.10797544128515503\n",
      "epoch: 2100, avg_loss: 0.10031177645379846\n",
      "epoch: 2200, avg_loss: 0.09894214604388583\n",
      "epoch: 2300, avg_loss: 0.0905044295571067\n",
      "epoch: 2400, avg_loss: 0.09533603286201303\n",
      "epoch: 2500, avg_loss: 0.09390484236858108\n"
     ]
    }
   ],
   "source": [
    "# training loop\n",
    "training_losses = []\n",
    "for epoch in range(1, num_epochs+1):\n",
    "    epoch_loss = 0\n",
    "    for batch in train_loader:\n",
    "        inputs, targets = batch\n",
    "        inputs, targets = inputs.to(device), targets.to(device)\n",
    "        # forward pass\n",
    "        outputs = model(inputs)\n",
    "        loss = criterion(outputs, targets)\n",
    "        \n",
    "        # backward pass\n",
    "        optimizer.zero_grad()\n",
    "        loss.backward()\n",
    "        optimizer.step()\n",
    "\n",
    "        epoch_loss += loss.item()\n",
    "    #average the loss over all batches\n",
    "    avg_loss = epoch_loss / len(train_loader)\n",
    "    training_losses.append(avg_loss)\n",
    "    if(epoch % 100 == 0 or epoch == 1):\n",
    "        print(f'epoch: {epoch}, avg_loss: {avg_loss}')"
   ]
  },
  {
   "cell_type": "code",
   "execution_count": 33,
   "metadata": {},
   "outputs": [
    {
     "data": {
      "image/png": "[encoded data removed]",
      "text/plain": [
       "<Figure size 640x480 with 1 Axes>"
      ]
     },
     "metadata": {},
     "output_type": "display_data"
    }
   ],
   "source": [
    "plt.plot(training_losses)\n",
    "plt.xlabel('Epoch')\n",
    "plt.ylabel('Loss')\n",
    "plt.title('Training Loss')\n",
    "plt.show()"
   ]
  },
  {
   "cell_type": "code",
   "execution_count": 34,
   "metadata": {},
   "outputs": [
    {
     "name": "stdout",
     "output_type": "stream",
     "text": [
      "val_loss: 2.225260802838433, val_acc: 0.531507356343111\n"
     ]
    }
   ],
   "source": [
    "def validate(model, dataloader, criterion):\n",
    "    model.eval() # Set the model to evaluation mode\n",
    "    val_loss = 0\n",
    "    correct = 0\n",
    "    total = 0\n",
    "    \n",
    "    with torch.no_grad(): # Disable gradient calculation for efficiency\n",
    "        for inputs, targets in dataloader:\n",
    "            inputs, targets = inputs.to(device), targets.to(device) # Move data to GPU if available\n",
    "            outputs = model(inputs)\n",
    "            loss = criterion(outputs, targets.float()) # BCE loss expects float inputs\n",
    "            val_loss += loss.item() * inputs.size(0) # Track total validation loss\n",
    "            \n",
    "            # Calculate accuracy\n",
    "            predicted = torch.round(outputs)\n",
    "            total += targets.size(0)\n",
    "            correct += (predicted == targets).sum().item()\n",
    "    \n",
    "    # Calculate average validation loss and accuracy\n",
    "    val_loss /= len(dataloader.dataset)\n",
    "    accuracy = correct / total\n",
    "    \n",
    "    return val_loss, accuracy\n",
    "\n",
    "val_loss, val_acc = validate(model, val_loader, criterion)\n",
    "print(f'val_loss: {val_loss}, val_acc: {val_acc}')"
   ]
  },
  {
   "attachments": {},
   "cell_type": "markdown",
   "metadata": {},
   "source": [
    "val_acc  \n",
    "1000 epochs: 0.5186453224761729  \n",
    "2000 epochs: 0.5326177477560841  \n",
    "3000 epochs: 0.5257703340427501  "
   ]
  },
  {
   "cell_type": "code",
   "execution_count": 35,
   "metadata": {},
   "outputs": [
    {
     "name": "stdout",
     "output_type": "stream",
     "text": [
      "tensor([0.8439, 0.6235, 0.1288, 0.1744, 0.8227, 0.0000, 1.0000, 1.0000, 0.3475,\n",
      "        0.9316, 0.9292, 0.9246, 0.6873, 0.7854, 0.6898, 0.9307, 0.3562, 0.9357,\n",
      "        0.2040, 0.6461, 0.3607, 0.4347, 0.4352, 0.1036, 0.9322, 1.0000, 0.9445,\n",
      "        0.8403, 0.7648, 0.6639, 0.8227, 0.7697, 0.5621, 0.9630, 0.9986, 0.9220,\n",
      "        0.9347, 0.9321, 0.2499, 0.1949, 0.7988, 0.0881, 0.9302, 0.5153, 0.4184,\n",
      "        0.6340, 0.6114, 0.6114, 0.6899, 0.8693, 0.9292, 0.7995, 0.6906, 0.9091,\n",
      "        0.7995, 1.0000, 0.8597, 0.9133, 0.9364, 0.0972, 0.9234, 0.6640, 0.7015,\n",
      "        0.9518, 0.9324, 0.8065, 0.8138, 0.8186, 0.8123, 0.9424, 0.1073, 0.0000,\n",
      "        0.0000, 0.0000, 0.0000, 1.0000, 0.0000, 0.0000, 0.0000, 0.0000, 0.0000,\n",
      "        0.0000, 0.0000, 0.0000], device='cuda:0')\n"
     ]
    },
    {
     "data": {
      "text/plain": [
       "tensor([0.9815], device='cuda:0', grad_fn=<SigmoidBackward0>)"
      ]
     },
     "execution_count": 35,
     "metadata": {},
     "output_type": "execute_result"
    }
   ],
   "source": [
    "# how will visa do tomorrow? > 0.5 = up, < 0.5 = down\n",
    "inputs, targets = df_to_tensor(df_full)\n",
    "inputs = inputs.to(device)\n",
    "print(inputs[len(inputs)-1])\n",
    "model(inputs[len(inputs)-1])"
   ]
  },
  {
   "cell_type": "code",
   "execution_count": 36,
   "metadata": {},
   "outputs": [
    {
     "name": "stdout",
     "output_type": "stream",
     "text": [
      "AAPL: 0.00\n",
      "AMZN: 0.17\n",
      "GOOG: 0.90\n",
      "GOOGL: 0.13\n",
      "MSFT: 0.00\n",
      "NVDA: 0.15\n",
      "PCAR: 0.95\n",
      "TSLA: 1.00\n",
      "TSM: 1.00\n",
      "UNH: 1.00\n",
      "V: 0.98\n"
     ]
    }
   ],
   "source": [
    "filenames = [os.path.splitext(os.path.basename(f))[0] for f in os.listdir(\"market_data/merged_data/\") if f.endswith('.csv')]\n",
    "\n",
    "for i, idx in enumerate(idxs):\n",
    "    print(f\"{filenames[i]}: {model(inputs[idx]).item():.2f}\")\n"
   ]
  }
 ],
 "metadata": {
  "kernelspec": {
   "display_name": "Python 3",
   "language": "python",
   "name": "python3"
  },
  "language_info": {
   "codemirror_mode": {
    "name": "ipython",
    "version": 3
   },
   "file_extension": ".py",
   "mimetype": "text/x-python",
   "name": "python",
   "nbconvert_exporter": "python",
   "pygments_lexer": "ipython3",
   "version": "3.8.8"
  },
  "orig_nbformat": 4
 },
 "nbformat": 4,
 "nbformat_minor": 2
}
