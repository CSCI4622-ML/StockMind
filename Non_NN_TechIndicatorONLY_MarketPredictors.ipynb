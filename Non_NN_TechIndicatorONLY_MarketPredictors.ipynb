{
 "cells": [
  {
   "cell_type": "code",
   "execution_count": 1,
   "metadata": {},
   "outputs": [],
   "source": [
    "from preprocessing import *\n",
    "import pandas as pd\n",
    "import numpy as np\n",
    "import os\n",
    "import matplotlib.pyplot as plt\n",
    "from sklearn.model_selection import train_test_split\n",
    "from sklearn.preprocessing import MinMaxScaler, Normalizer"
   ]
  },
  {
   "attachments": {},
   "cell_type": "markdown",
   "metadata": {},
   "source": [
    "### Purpose: To investigate the predictive ability of only technical indicators using simple algorithms \n",
    "Conclusion: Technical indicators on this dataset can achieve an accuracy of about 52% to 53% using non-neural-network type classifiers. Individual technical indicators generally have a very weak correlation between their value and the resulting market close the next day and must be either analyzed together using a more comprehensive algorithm (such as a NN) or in conjunction with other data (sentiment analysis, quarterly reports, etc). In other words, I have no idea why technical indicators are even a thing since they don't seem to give an advantage in predictions. "
   ]
  },
  {
   "cell_type": "code",
   "execution_count": 9,
   "metadata": {},
   "outputs": [
    {
     "name": "stdout",
     "output_type": "stream",
     "text": [
      "Features in X_data: \n",
      "\tChaikin A/D, ADOSC, ADX, ADXR, APO, Aroon Down, Aroon Up, AROONOSC, ATR, Real Upper Band, Real Middle Band, Real Lower Band, BOP, CCI, CMO, DEMA, DX, EMA, DCPERIOD, HT_DCPHASE, PHASE, QUADRATURE, SINE, LEAD SINE, HT_TRENDLINE, TRENDMODE, KAMA, MACD, MACD_Signal, MACD_Hist, MACD.1, MACD_Signal.1, MACD_Hist.1, MAMA, FAMA, MFI, MIDPOINT, MIDPRICE, MINUS_DI, MINUS_DM, MOM, NATR, OBV, PLUS_DI, PLUS_DM, PPO, ROC, ROCR, RSI, SAR, SMA, SlowK, SlowD, FastK, FastD, FastK.1, FastD.1, T3, TEMA, TRANGE, TRIMA, TRIX, ULTOSC, WILLR, WMA, \n",
      "length of training data: 27560\n",
      "length of validation data: 6890\n",
      "length of testing data: 8613\n"
     ]
    }
   ],
   "source": [
    "def prep_data(file, test_split, valid_split, drop_columns=[], scaler=MinMaxScaler()):\n",
    "    df = combine_csvs_from_folder('market_data/merged_data', scaler)\n",
    "    df = add_up_column(df)\n",
    "    df[\"next_up\"] = df[\"up\"].shift(-1)\n",
    "    df.dropna(inplace=True)\n",
    "    df.drop(columns=drop_columns, inplace=True)\n",
    "    X_column = df.columns[:-1]\n",
    "    y_column = df.columns[-1]\n",
    "    X = df[X_column].to_numpy()\n",
    "    y = df[y_column].to_numpy().astype(int)\n",
    "    X_train_valid, X_test, y_train_valid, y_test = train_test_split(X, y, test_size=test_split, shuffle=True, random_state=42)\n",
    "    X_train, X_valid, y_train, y_valid = train_test_split(X_train_valid, y_train_valid, test_size=valid_split, shuffle=True, random_state=52)\n",
    "    print(\"Features in X_data: \\n\\t\", end=\"\")\n",
    "    [print(c, end=\", \") for c in X_column]\n",
    "    print()\n",
    "    print(f\"length of training data: {y_train.size}\")\n",
    "    print(f\"length of validation data: {y_valid.size}\")\n",
    "    print(f\"length of testing data: {y_test.size}\")\n",
    "    return X_column, X_train, X_valid, X_test, y_train, y_valid, y_test\n",
    "\n",
    "features_to_drop = [\"1. open\", \"2. high\", \"3. low\", \"4. close\", \"5. adjusted close\", \"6. volume\", \"7. dividend amount\", \"8. split coefficient\", \"up\", \"company\"]\n",
    "X_column, X_train, X_valid, X_test, y_train, y_valid, y_test = prep_data('market_data/merged_data', 0.2, 0.2, drop_columns=features_to_drop, scaler=MinMaxScaler())"
   ]
  },
  {
   "attachments": {},
   "cell_type": "markdown",
   "metadata": {},
   "source": [
    "# Testing individual Tech Indicators with Logistic Regresssion"
   ]
  },
  {
   "cell_type": "code",
   "execution_count": 20,
   "metadata": {},
   "outputs": [
    {
     "name": "stdout",
     "output_type": "stream",
     "text": [
      "Accuracy using only Chaikin A/D is 0.520840589806107\n",
      "Accuracy using only ADOSC is 0.520840589806107\n",
      "Accuracy using only ADX is 0.5209566933704864\n",
      "Accuracy using only ADXR is 0.520840589806107\n",
      "Accuracy using only APO is 0.5188668292116568\n",
      "Accuracy using only Aroon Down is 0.520840589806107\n",
      "Accuracy using only Aroon Up is 0.520840589806107\n",
      "Accuracy using only AROONOSC is 0.520840589806107\n",
      "Accuracy using only ATR is 0.520840589806107\n",
      "Accuracy using only Real Upper Band is 0.520840589806107\n",
      "Accuracy using only Real Middle Band is 0.520840589806107\n",
      "Accuracy using only Real Lower Band is 0.520840589806107\n",
      "Accuracy using only BOP is 0.5189829327760362\n",
      "Accuracy using only CCI is 0.5207244862417276\n",
      "Accuracy using only CMO is 0.5230465575293162\n",
      "Accuracy using only DEMA is 0.520840589806107\n",
      "Accuracy using only DX is 0.5218855218855218\n",
      "Accuracy using only EMA is 0.520840589806107\n",
      "Accuracy using only DCPERIOD is 0.520840589806107\n",
      "Accuracy using only HT_DCPHASE is 0.520840589806107\n",
      "Accuracy using only PHASE is 0.520840589806107\n",
      "Accuracy using only QUADRATURE is 0.520840589806107\n",
      "Accuracy using only SINE is 0.5182863113897597\n",
      "Accuracy using only LEAD SINE is 0.520840589806107\n",
      "Accuracy using only HT_TRENDLINE is 0.520840589806107\n",
      "Accuracy using only TRENDMODE is 0.520840589806107\n",
      "Accuracy using only KAMA is 0.520840589806107\n",
      "Accuracy using only MACD is 0.520840589806107\n",
      "Accuracy using only MACD_Signal is 0.5210727969348659\n",
      "Accuracy using only MACD_Hist is 0.5206083826773482\n",
      "Accuracy using only MACD.1 is 0.5188668292116568\n",
      "Accuracy using only MACD_Signal.1 is 0.5194473470335539\n",
      "Accuracy using only MACD_Hist.1 is 0.5158481365377917\n",
      "Accuracy using only MAMA is 0.520840589806107\n",
      "Accuracy using only FAMA is 0.520840589806107\n",
      "Accuracy using only MFI is 0.5233948682224544\n",
      "Accuracy using only MIDPOINT is 0.520840589806107\n",
      "Accuracy using only MIDPRICE is 0.520840589806107\n",
      "Accuracy using only MINUS_DI is 0.520840589806107\n",
      "Accuracy using only MINUS_DM is 0.520840589806107\n",
      "Accuracy using only MOM is 0.520840589806107\n",
      "Accuracy using only NATR is 0.5172413793103449\n",
      "Accuracy using only OBV is 0.520840589806107\n",
      "Accuracy using only PLUS_DI is 0.520840589806107\n",
      "Accuracy using only PLUS_DM is 0.520840589806107\n",
      "Accuracy using only PPO is 0.5204922791129688\n",
      "Accuracy using only ROC is 0.520840589806107\n",
      "Accuracy using only ROCR is 0.520840589806107\n",
      "Accuracy using only RSI is 0.5230465575293162\n",
      "Accuracy using only SAR is 0.520840589806107\n",
      "Accuracy using only SMA is 0.520840589806107\n",
      "Accuracy using only SlowK is 0.5190990363404157\n",
      "Accuracy using only SlowD is 0.5196795541623128\n",
      "Accuracy using only FastK is 0.5170091721815859\n",
      "Accuracy using only FastD is 0.5190990363404157\n",
      "Accuracy using only FastK.1 is 0.5135260652502032\n",
      "Accuracy using only FastD.1 is 0.5165447579240683\n",
      "Accuracy using only T3 is 0.520840589806107\n",
      "Accuracy using only TEMA is 0.520840589806107\n",
      "Accuracy using only TRANGE is 0.520840589806107\n",
      "Accuracy using only TRIMA is 0.520840589806107\n",
      "Accuracy using only TRIX is 0.5189829327760362\n",
      "Accuracy using only ULTOSC is 0.5184024149541391\n",
      "Accuracy using only WILLR is 0.520840589806107\n",
      "Accuracy using only WMA is 0.520840589806107\n"
     ]
    }
   ],
   "source": [
    "from sklearn.linear_model import LogisticRegression\n",
    "from sklearn.metrics import accuracy_score\n",
    "\n",
    "n_samples, n_features = X_train.shape\n",
    "for feature in range(n_features):\n",
    "    x = X_train[:, feature].reshape(-1,1)\n",
    "    model = LogisticRegression()\n",
    "    model.fit(x, y_train)\n",
    "    y_pred = model.predict(X_test[:, feature].reshape(-1,1))\n",
    "    acc = accuracy_score(y_test, y_pred)\n",
    "    print(f\"Accuracy using only {X_column[feature]} is {acc}\")"
   ]
  },
  {
   "attachments": {},
   "cell_type": "markdown",
   "metadata": {},
   "source": [
    "## Simple Classifiers"
   ]
  },
  {
   "cell_type": "code",
   "execution_count": 21,
   "metadata": {},
   "outputs": [
    {
     "name": "stdout",
     "output_type": "stream",
     "text": [
      "Accuracy using KNeighborsClassifier(): 0.5005805515239478\n"
     ]
    },
    {
     "name": "stderr",
     "output_type": "stream",
     "text": [
      "c:\\Users\\markr\\anaconda3\\envs\\stockmind_dev\\Lib\\site-packages\\sklearn\\linear_model\\_logistic.py:458: ConvergenceWarning: lbfgs failed to converge (status=1):\n",
      "STOP: TOTAL NO. of ITERATIONS REACHED LIMIT.\n",
      "\n",
      "Increase the number of iterations (max_iter) or scale the data as shown in:\n",
      "    https://scikit-learn.org/stable/modules/preprocessing.html\n",
      "Please also refer to the documentation for alternative solver options:\n",
      "    https://scikit-learn.org/stable/modules/linear_model.html#logistic-regression\n",
      "  n_iter_i = _check_optimize_result(\n"
     ]
    },
    {
     "name": "stdout",
     "output_type": "stream",
     "text": [
      "Accuracy using LogisticRegression(): 0.5245283018867924\n",
      "Accuracy using SGDClassifier(penalty='l1'): 0.5230769230769231\n",
      "Accuracy using Perceptron(): 0.5182873730043541\n",
      "Accuracy using RidgeClassifier(): 0.5206095791001452\n",
      "Accuracy using LinearSVC(): 0.5230769230769231\n",
      "Accuracy using DecisionTreeClassifier(): 0.5105950653120465\n"
     ]
    }
   ],
   "source": [
    "from sklearn.neighbors import KNeighborsClassifier\n",
    "from sklearn.linear_model import SGDClassifier, Perceptron, RidgeClassifier\n",
    "from sklearn.svm import SVC, LinearSVC\n",
    "from sklearn.gaussian_process import GaussianProcessClassifier\n",
    "from sklearn.tree import DecisionTreeClassifier\n",
    "from sklearn.neural_network import MLPClassifier\n",
    "\n",
    "models = [KNeighborsClassifier(),\n",
    "          LogisticRegression(),\n",
    "          SGDClassifier(penalty=\"l1\"),\n",
    "          Perceptron(),\n",
    "          RidgeClassifier(),\n",
    "          LinearSVC(),\n",
    "          DecisionTreeClassifier()\n",
    "          ]\n",
    "for model in models:\n",
    "    model.fit(X_train, y_train)\n",
    "    y_pred = model.predict(X_valid)\n",
    "    acc = accuracy_score(y_valid, y_pred)\n",
    "    print(f\"Accuracy using {model}: {acc}\")"
   ]
  },
  {
   "attachments": {},
   "cell_type": "markdown",
   "metadata": {},
   "source": [
    "## Testing Various SVM"
   ]
  },
  {
   "cell_type": "code",
   "execution_count": 14,
   "metadata": {},
   "outputs": [
    {
     "name": "stderr",
     "output_type": "stream",
     "text": [
      "c:\\Users\\markr\\anaconda3\\envs\\stockmind_dev\\Lib\\site-packages\\sklearn\\svm\\_base.py:299: ConvergenceWarning: Solver terminated early (max_iter=10000).  Consider pre-processing your data with StandardScaler or MinMaxScaler.\n",
      "  warnings.warn(\n"
     ]
    },
    {
     "name": "stdout",
     "output_type": "stream",
     "text": [
      "Accuracy using SVC with c=0.01 and k=linear: 0.5062115406942993\n"
     ]
    },
    {
     "name": "stderr",
     "output_type": "stream",
     "text": [
      "c:\\Users\\markr\\anaconda3\\envs\\stockmind_dev\\Lib\\site-packages\\sklearn\\svm\\_base.py:299: ConvergenceWarning: Solver terminated early (max_iter=10000).  Consider pre-processing your data with StandardScaler or MinMaxScaler.\n",
      "  warnings.warn(\n"
     ]
    },
    {
     "name": "stdout",
     "output_type": "stream",
     "text": [
      "Accuracy using SVC with c=0.01 and k=poly: 0.5201439684198305\n"
     ]
    },
    {
     "name": "stderr",
     "output_type": "stream",
     "text": [
      "c:\\Users\\markr\\anaconda3\\envs\\stockmind_dev\\Lib\\site-packages\\sklearn\\svm\\_base.py:299: ConvergenceWarning: Solver terminated early (max_iter=10000).  Consider pre-processing your data with StandardScaler or MinMaxScaler.\n",
      "  warnings.warn(\n"
     ]
    },
    {
     "name": "stdout",
     "output_type": "stream",
     "text": [
      "Accuracy using SVC with c=0.01 and k=rbf: 0.5186346220828979\n"
     ]
    },
    {
     "name": "stderr",
     "output_type": "stream",
     "text": [
      "c:\\Users\\markr\\anaconda3\\envs\\stockmind_dev\\Lib\\site-packages\\sklearn\\svm\\_base.py:299: ConvergenceWarning: Solver terminated early (max_iter=10000).  Consider pre-processing your data with StandardScaler or MinMaxScaler.\n",
      "  warnings.warn(\n"
     ]
    },
    {
     "name": "stdout",
     "output_type": "stream",
     "text": [
      "Accuracy using SVC with c=0.01 and k=sigmoid: 0.5151515151515151\n"
     ]
    },
    {
     "name": "stderr",
     "output_type": "stream",
     "text": [
      "c:\\Users\\markr\\anaconda3\\envs\\stockmind_dev\\Lib\\site-packages\\sklearn\\svm\\_base.py:299: ConvergenceWarning: Solver terminated early (max_iter=10000).  Consider pre-processing your data with StandardScaler or MinMaxScaler.\n",
      "  warnings.warn(\n"
     ]
    },
    {
     "name": "stdout",
     "output_type": "stream",
     "text": [
      "Accuracy using SVC with c=0.1 and k=linear: 0.5166608614884477\n"
     ]
    },
    {
     "name": "stderr",
     "output_type": "stream",
     "text": [
      "c:\\Users\\markr\\anaconda3\\envs\\stockmind_dev\\Lib\\site-packages\\sklearn\\svm\\_base.py:299: ConvergenceWarning: Solver terminated early (max_iter=10000).  Consider pre-processing your data with StandardScaler or MinMaxScaler.\n",
      "  warnings.warn(\n"
     ]
    },
    {
     "name": "stdout",
     "output_type": "stream",
     "text": [
      "Accuracy using SVC with c=0.1 and k=poly: 0.520840589806107\n"
     ]
    },
    {
     "name": "stderr",
     "output_type": "stream",
     "text": [
      "c:\\Users\\markr\\anaconda3\\envs\\stockmind_dev\\Lib\\site-packages\\sklearn\\svm\\_base.py:299: ConvergenceWarning: Solver terminated early (max_iter=10000).  Consider pre-processing your data with StandardScaler or MinMaxScaler.\n",
      "  warnings.warn(\n"
     ]
    },
    {
     "name": "stdout",
     "output_type": "stream",
     "text": [
      "Accuracy using SVC with c=0.1 and k=rbf: 0.5233948682224544\n",
      "Accuracy using SVC with c=0.1 and k=sigmoid: 0.4836874492046906\n"
     ]
    },
    {
     "name": "stderr",
     "output_type": "stream",
     "text": [
      "c:\\Users\\markr\\anaconda3\\envs\\stockmind_dev\\Lib\\site-packages\\sklearn\\svm\\_base.py:299: ConvergenceWarning: Solver terminated early (max_iter=10000).  Consider pre-processing your data with StandardScaler or MinMaxScaler.\n",
      "  warnings.warn(\n"
     ]
    },
    {
     "name": "stdout",
     "output_type": "stream",
     "text": [
      "Accuracy using SVC with c=1 and k=linear: 0.5197956577266922\n"
     ]
    },
    {
     "name": "stderr",
     "output_type": "stream",
     "text": [
      "c:\\Users\\markr\\anaconda3\\envs\\stockmind_dev\\Lib\\site-packages\\sklearn\\svm\\_base.py:299: ConvergenceWarning: Solver terminated early (max_iter=10000).  Consider pre-processing your data with StandardScaler or MinMaxScaler.\n",
      "  warnings.warn(\n"
     ]
    },
    {
     "name": "stdout",
     "output_type": "stream",
     "text": [
      "Accuracy using SVC with c=1 and k=poly: 0.5178218971322419\n"
     ]
    },
    {
     "name": "stderr",
     "output_type": "stream",
     "text": [
      "c:\\Users\\markr\\anaconda3\\envs\\stockmind_dev\\Lib\\site-packages\\sklearn\\svm\\_base.py:299: ConvergenceWarning: Solver terminated early (max_iter=10000).  Consider pre-processing your data with StandardScaler or MinMaxScaler.\n",
      "  warnings.warn(\n"
     ]
    },
    {
     "name": "stdout",
     "output_type": "stream",
     "text": [
      "Accuracy using SVC with c=1 and k=rbf: 0.5158481365377917\n",
      "Accuracy using SVC with c=1 and k=sigmoid: 0.4841518634622083\n"
     ]
    },
    {
     "name": "stderr",
     "output_type": "stream",
     "text": [
      "c:\\Users\\markr\\anaconda3\\envs\\stockmind_dev\\Lib\\site-packages\\sklearn\\svm\\_base.py:299: ConvergenceWarning: Solver terminated early (max_iter=10000).  Consider pre-processing your data with StandardScaler or MinMaxScaler.\n",
      "  warnings.warn(\n"
     ]
    },
    {
     "name": "stdout",
     "output_type": "stream",
     "text": [
      "Accuracy using SVC with c=10 and k=linear: 0.48566120979914085\n"
     ]
    },
    {
     "name": "stderr",
     "output_type": "stream",
     "text": [
      "c:\\Users\\markr\\anaconda3\\envs\\stockmind_dev\\Lib\\site-packages\\sklearn\\svm\\_base.py:299: ConvergenceWarning: Solver terminated early (max_iter=10000).  Consider pre-processing your data with StandardScaler or MinMaxScaler.\n",
      "  warnings.warn(\n"
     ]
    },
    {
     "name": "stdout",
     "output_type": "stream",
     "text": [
      "Accuracy using SVC with c=10 and k=poly: 0.4935562521769418\n"
     ]
    },
    {
     "name": "stderr",
     "output_type": "stream",
     "text": [
      "c:\\Users\\markr\\anaconda3\\envs\\stockmind_dev\\Lib\\site-packages\\sklearn\\svm\\_base.py:299: ConvergenceWarning: Solver terminated early (max_iter=10000).  Consider pre-processing your data with StandardScaler or MinMaxScaler.\n",
      "  warnings.warn(\n"
     ]
    },
    {
     "name": "stdout",
     "output_type": "stream",
     "text": [
      "Accuracy using SVC with c=10 and k=rbf: 0.5095785440613027\n",
      "Accuracy using SVC with c=10 and k=sigmoid: 0.48438407059096716\n"
     ]
    }
   ],
   "source": [
    "from sklearn.svm import SVC\n",
    "from itertools import product\n",
    "\n",
    "c_vals = [0.01, 0.1, 1, 10]\n",
    "kernels = [\"linear\", \"poly\", \"rbf\", \"sigmoid\"]\n",
    "for c,k in product(c_vals, kernels):\n",
    "    model = SVC(C=c, kernel=k, max_iter=10000)\n",
    "    model.fit(X_train, y_train)\n",
    "    y_pred = model.predict(X_test)\n",
    "    acc = accuracy_score(y_test, y_pred)\n",
    "    print(f\"Accuracy using SVC with c={c} and k={k}: {acc}\")"
   ]
  },
  {
   "cell_type": "code",
   "execution_count": 15,
   "metadata": {},
   "outputs": [
    {
     "name": "stderr",
     "output_type": "stream",
     "text": [
      "c:\\Users\\markr\\anaconda3\\envs\\stockmind_dev\\Lib\\site-packages\\sklearn\\svm\\_base.py:299: ConvergenceWarning: Solver terminated early (max_iter=10000).  Consider pre-processing your data with StandardScaler or MinMaxScaler.\n",
      "  warnings.warn(\n"
     ]
    },
    {
     "name": "stdout",
     "output_type": "stream",
     "text": [
      "Accuracy using SVC with c=1e-05 and k=poly: 0.5179380006966214\n"
     ]
    },
    {
     "name": "stderr",
     "output_type": "stream",
     "text": [
      "c:\\Users\\markr\\anaconda3\\envs\\stockmind_dev\\Lib\\site-packages\\sklearn\\svm\\_base.py:299: ConvergenceWarning: Solver terminated early (max_iter=10000).  Consider pre-processing your data with StandardScaler or MinMaxScaler.\n",
      "  warnings.warn(\n"
     ]
    },
    {
     "name": "stdout",
     "output_type": "stream",
     "text": [
      "Accuracy using SVC with c=0.0001 and k=poly: 0.5194473470335539\n"
     ]
    },
    {
     "name": "stderr",
     "output_type": "stream",
     "text": [
      "c:\\Users\\markr\\anaconda3\\envs\\stockmind_dev\\Lib\\site-packages\\sklearn\\svm\\_base.py:299: ConvergenceWarning: Solver terminated early (max_iter=10000).  Consider pre-processing your data with StandardScaler or MinMaxScaler.\n",
      "  warnings.warn(\n"
     ]
    },
    {
     "name": "stdout",
     "output_type": "stream",
     "text": [
      "Accuracy using SVC with c=0.001 and k=poly: 0.5187507256472774\n"
     ]
    },
    {
     "name": "stderr",
     "output_type": "stream",
     "text": [
      "c:\\Users\\markr\\anaconda3\\envs\\stockmind_dev\\Lib\\site-packages\\sklearn\\svm\\_base.py:299: ConvergenceWarning: Solver terminated early (max_iter=10000).  Consider pre-processing your data with StandardScaler or MinMaxScaler.\n",
      "  warnings.warn(\n"
     ]
    },
    {
     "name": "stdout",
     "output_type": "stream",
     "text": [
      "Accuracy using SVC with c=0.01 and k=poly: 0.5201439684198305\n"
     ]
    },
    {
     "name": "stderr",
     "output_type": "stream",
     "text": [
      "c:\\Users\\markr\\anaconda3\\envs\\stockmind_dev\\Lib\\site-packages\\sklearn\\svm\\_base.py:299: ConvergenceWarning: Solver terminated early (max_iter=10000).  Consider pre-processing your data with StandardScaler or MinMaxScaler.\n",
      "  warnings.warn(\n"
     ]
    },
    {
     "name": "stdout",
     "output_type": "stream",
     "text": [
      "Accuracy using SVC with c=0.1 and k=poly: 0.520840589806107\n"
     ]
    },
    {
     "name": "stderr",
     "output_type": "stream",
     "text": [
      "c:\\Users\\markr\\anaconda3\\envs\\stockmind_dev\\Lib\\site-packages\\sklearn\\svm\\_base.py:299: ConvergenceWarning: Solver terminated early (max_iter=10000).  Consider pre-processing your data with StandardScaler or MinMaxScaler.\n",
      "  warnings.warn(\n"
     ]
    },
    {
     "name": "stdout",
     "output_type": "stream",
     "text": [
      "Accuracy using SVC with c=1 and k=poly: 0.5178218971322419\n"
     ]
    }
   ],
   "source": [
    "from sklearn.svm import SVC\n",
    "from itertools import product\n",
    "\n",
    "c_vals = [0.00001, 0.0001, 0.001, 0.01, 0.1, 1]\n",
    "kernels = [\"poly\"]\n",
    "for c,k in product(c_vals, kernels):\n",
    "    model = SVC(C=c, kernel=k, max_iter=10000)\n",
    "    model.fit(X_train, y_train)\n",
    "    y_pred = model.predict(X_test)\n",
    "    acc = accuracy_score(y_test, y_pred)\n",
    "    print(f\"Accuracy using SVC with c={c} and k={k}: {acc}\")"
   ]
  },
  {
   "cell_type": "code",
   "execution_count": null,
   "metadata": {},
   "outputs": [],
   "source": []
  }
 ],
 "metadata": {
  "kernelspec": {
   "display_name": "stockmind_dev",
   "language": "python",
   "name": "python3"
  },
  "language_info": {
   "codemirror_mode": {
    "name": "ipython",
    "version": 3
   },
   "file_extension": ".py",
   "mimetype": "text/x-python",
   "name": "python",
   "nbconvert_exporter": "python",
   "pygments_lexer": "ipython3",
   "version": "3.11.0"
  },
  "orig_nbformat": 4
 },
 "nbformat": 4,
 "nbformat_minor": 2
}
