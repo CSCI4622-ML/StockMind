{
 "cells": [
  {
   "cell_type": "code",
   "execution_count": 1,
   "metadata": {},
   "outputs": [],
   "source": [
    "import torch\n",
    "import torch.nn as nn\n",
    "import torch.nn.functional as F\n",
    "import torch.optim as optim\n",
    "from torch.utils.data import DataLoader, random_split, TensorDataset\n",
    "import numpy as np\n",
    "import pandas as pd\n",
    "import matplotlib.pyplot as plt\n",
    "import os\n",
    "\n",
    "from sklearn.preprocessing import MinMaxScaler\n"
   ]
  },
  {
   "cell_type": "code",
   "execution_count": 2,
   "metadata": {},
   "outputs": [],
   "source": [
    "def normalize_dataframe(df):\n",
    "    \"\"\"\n",
    "    Normalizes all columns in a pandas DataFrame  using MinMaxScaler.\n",
    "\n",
    "    Args:\n",
    "        df (pandas.DataFrame): The input DataFrame.\n",
    "\n",
    "    Returns:\n",
    "        pandas.DataFrame: The normalized DataFrame.\n",
    "    \"\"\"\n",
    "    scaler = MinMaxScaler()\n",
    "    columns_to_normalize = [col for col in df.columns]\n",
    "    df[columns_to_normalize] = scaler.fit_transform(df[columns_to_normalize])\n",
    "    return df"
   ]
  },
  {
   "cell_type": "code",
   "execution_count": 3,
   "metadata": {},
   "outputs": [],
   "source": [
    "def add_up_column(df):\n",
    "    # Create empty 'up' and 'down' columns\n",
    "    df['up'] = np.nan\n",
    "    \n",
    "    # Loop over the rows (skipping the first row)\n",
    "    for i in range(0, len(df)-1):\n",
    "        if df.loc[i+1, '4. close'] > df.loc[i, '4. close']:\n",
    "            df.loc[i, 'up'] = 1\n",
    "        else:\n",
    "            df.loc[i, 'up'] = 0\n",
    "    return df"
   ]
  },
  {
   "cell_type": "code",
   "execution_count": 4,
   "metadata": {},
   "outputs": [
    {
     "data": {
      "text/html": [
       "<div>\n",
       "<style scoped>\n",
       "    .dataframe tbody tr th:only-of-type {\n",
       "        vertical-align: middle;\n",
       "    }\n",
       "\n",
       "    .dataframe tbody tr th {\n",
       "        vertical-align: top;\n",
       "    }\n",
       "\n",
       "    .dataframe thead th {\n",
       "        text-align: right;\n",
       "    }\n",
       "</style>\n",
       "<table border=\"1\" class=\"dataframe\">\n",
       "  <thead>\n",
       "    <tr style=\"text-align: right;\">\n",
       "      <th></th>\n",
       "      <th>Chaikin A/D</th>\n",
       "      <th>ADOSC</th>\n",
       "      <th>ADX</th>\n",
       "      <th>ADXR</th>\n",
       "      <th>APO</th>\n",
       "      <th>Aroon Down</th>\n",
       "      <th>Aroon Up</th>\n",
       "      <th>AROONOSC</th>\n",
       "      <th>ATR</th>\n",
       "      <th>Real Upper Band</th>\n",
       "      <th>...</th>\n",
       "      <th>1. open</th>\n",
       "      <th>2. high</th>\n",
       "      <th>3. low</th>\n",
       "      <th>4. close</th>\n",
       "      <th>5. adjusted close</th>\n",
       "      <th>6. volume</th>\n",
       "      <th>7. dividend amount</th>\n",
       "      <th>8. split coefficient</th>\n",
       "      <th>company</th>\n",
       "      <th>up</th>\n",
       "    </tr>\n",
       "  </thead>\n",
       "  <tbody>\n",
       "    <tr>\n",
       "      <th>54039</th>\n",
       "      <td>0.836382</td>\n",
       "      <td>0.618820</td>\n",
       "      <td>0.098034</td>\n",
       "      <td>0.135600</td>\n",
       "      <td>0.750070</td>\n",
       "      <td>0.20</td>\n",
       "      <td>0.85</td>\n",
       "      <td>0.825</td>\n",
       "      <td>0.349887</td>\n",
       "      <td>0.916590</td>\n",
       "      <td>...</td>\n",
       "      <td>0.775004</td>\n",
       "      <td>0.777489</td>\n",
       "      <td>0.784578</td>\n",
       "      <td>0.780133</td>\n",
       "      <td>0.910496</td>\n",
       "      <td>0.049474</td>\n",
       "      <td>0.0</td>\n",
       "      <td>0.0</td>\n",
       "      <td>10</td>\n",
       "      <td>1.0</td>\n",
       "    </tr>\n",
       "    <tr>\n",
       "      <th>54040</th>\n",
       "      <td>0.838415</td>\n",
       "      <td>0.621788</td>\n",
       "      <td>0.096431</td>\n",
       "      <td>0.133143</td>\n",
       "      <td>0.760952</td>\n",
       "      <td>0.15</td>\n",
       "      <td>0.80</td>\n",
       "      <td>0.825</td>\n",
       "      <td>0.345309</td>\n",
       "      <td>0.918329</td>\n",
       "      <td>...</td>\n",
       "      <td>0.781107</td>\n",
       "      <td>0.788813</td>\n",
       "      <td>0.792659</td>\n",
       "      <td>0.788697</td>\n",
       "      <td>0.918977</td>\n",
       "      <td>0.044222</td>\n",
       "      <td>0.0</td>\n",
       "      <td>0.0</td>\n",
       "      <td>10</td>\n",
       "      <td>0.0</td>\n",
       "    </tr>\n",
       "    <tr>\n",
       "      <th>54041</th>\n",
       "      <td>0.835553</td>\n",
       "      <td>0.613781</td>\n",
       "      <td>0.102918</td>\n",
       "      <td>0.140160</td>\n",
       "      <td>0.779426</td>\n",
       "      <td>0.10</td>\n",
       "      <td>1.00</td>\n",
       "      <td>0.950</td>\n",
       "      <td>0.347403</td>\n",
       "      <td>0.920624</td>\n",
       "      <td>...</td>\n",
       "      <td>0.793524</td>\n",
       "      <td>0.799283</td>\n",
       "      <td>0.797516</td>\n",
       "      <td>0.785984</td>\n",
       "      <td>0.916290</td>\n",
       "      <td>0.042542</td>\n",
       "      <td>0.0</td>\n",
       "      <td>0.0</td>\n",
       "      <td>10</td>\n",
       "      <td>1.0</td>\n",
       "    </tr>\n",
       "    <tr>\n",
       "      <th>54042</th>\n",
       "      <td>0.841508</td>\n",
       "      <td>0.619601</td>\n",
       "      <td>0.112941</td>\n",
       "      <td>0.157132</td>\n",
       "      <td>0.798503</td>\n",
       "      <td>0.05</td>\n",
       "      <td>1.00</td>\n",
       "      <td>0.975</td>\n",
       "      <td>0.353149</td>\n",
       "      <td>0.925806</td>\n",
       "      <td>...</td>\n",
       "      <td>0.791532</td>\n",
       "      <td>0.804615</td>\n",
       "      <td>0.803834</td>\n",
       "      <td>0.806673</td>\n",
       "      <td>0.936779</td>\n",
       "      <td>0.081344</td>\n",
       "      <td>0.0</td>\n",
       "      <td>0.0</td>\n",
       "      <td>10</td>\n",
       "      <td>1.0</td>\n",
       "    </tr>\n",
       "    <tr>\n",
       "      <th>54043</th>\n",
       "      <td>0.843942</td>\n",
       "      <td>0.623524</td>\n",
       "      <td>0.128798</td>\n",
       "      <td>0.174423</td>\n",
       "      <td>0.822713</td>\n",
       "      <td>0.00</td>\n",
       "      <td>1.00</td>\n",
       "      <td>1.000</td>\n",
       "      <td>0.347510</td>\n",
       "      <td>0.931589</td>\n",
       "      <td>...</td>\n",
       "      <td>0.806493</td>\n",
       "      <td>0.813785</td>\n",
       "      <td>0.818619</td>\n",
       "      <td>0.812312</td>\n",
       "      <td>0.942363</td>\n",
       "      <td>0.107260</td>\n",
       "      <td>0.0</td>\n",
       "      <td>0.0</td>\n",
       "      <td>10</td>\n",
       "      <td>NaN</td>\n",
       "    </tr>\n",
       "  </tbody>\n",
       "</table>\n",
       "<p>5 rows × 75 columns</p>\n",
       "</div>"
      ],
      "text/plain": [
       "       Chaikin A/D     ADOSC       ADX      ADXR       APO  Aroon Down  \\\n",
       "54039     0.836382  0.618820  0.098034  0.135600  0.750070        0.20   \n",
       "54040     0.838415  0.621788  0.096431  0.133143  0.760952        0.15   \n",
       "54041     0.835553  0.613781  0.102918  0.140160  0.779426        0.10   \n",
       "54042     0.841508  0.619601  0.112941  0.157132  0.798503        0.05   \n",
       "54043     0.843942  0.623524  0.128798  0.174423  0.822713        0.00   \n",
       "\n",
       "       Aroon Up  AROONOSC       ATR  Real Upper Band  ...   1. open   2. high  \\\n",
       "54039      0.85     0.825  0.349887         0.916590  ...  0.775004  0.777489   \n",
       "54040      0.80     0.825  0.345309         0.918329  ...  0.781107  0.788813   \n",
       "54041      1.00     0.950  0.347403         0.920624  ...  0.793524  0.799283   \n",
       "54042      1.00     0.975  0.353149         0.925806  ...  0.791532  0.804615   \n",
       "54043      1.00     1.000  0.347510         0.931589  ...  0.806493  0.813785   \n",
       "\n",
       "         3. low  4. close  5. adjusted close  6. volume  7. dividend amount  \\\n",
       "54039  0.784578  0.780133           0.910496   0.049474                 0.0   \n",
       "54040  0.792659  0.788697           0.918977   0.044222                 0.0   \n",
       "54041  0.797516  0.785984           0.916290   0.042542                 0.0   \n",
       "54042  0.803834  0.806673           0.936779   0.081344                 0.0   \n",
       "54043  0.818619  0.812312           0.942363   0.107260                 0.0   \n",
       "\n",
       "       8. split coefficient  company   up  \n",
       "54039                   0.0       10  1.0  \n",
       "54040                   0.0       10  0.0  \n",
       "54041                   0.0       10  1.0  \n",
       "54042                   0.0       10  1.0  \n",
       "54043                   0.0       10  NaN  \n",
       "\n",
       "[5 rows x 75 columns]"
      ]
     },
     "execution_count": 4,
     "metadata": {},
     "output_type": "execute_result"
    }
   ],
   "source": [
    "def combine_csvs_from_folder(folder_path):\n",
    "    \"\"\"\n",
    "    Combines all CSV files in a folder into a single pandas DataFrame also normalizes before combining them.\n",
    "\n",
    "    Args:\n",
    "        folder_path (str): The path to the folder containing the CSV files.\n",
    "\n",
    "    Returns:\n",
    "        A pandas DataFrame containing the concatenated data from all CSV files in the input folder.\n",
    "    \"\"\"\n",
    "    # Use a list comprehension to read all CSV files in the folder into a list of DataFrames.\n",
    "    dfs = [pd.read_csv(os.path.join(folder_path, f)) for f in os.listdir(folder_path) if f.endswith('.csv')]\n",
    "    \n",
    "    # Use a list comprehension to get the filenames of all CSV files in the folder.\n",
    "    filenames = [os.path.splitext(os.path.basename(f))[0] for f in os.listdir(folder_path) if f.endswith('.csv')]\n",
    "\n",
    "    processed_dfs = []\n",
    "    i = 0\n",
    "    for df, filename in zip(dfs, filenames):\n",
    "        # Dont need the date column\n",
    "        df = df.drop(['date'], axis=1)\n",
    "        # normalize the dataframes before combining them\n",
    "        df = normalize_dataframe(df)\n",
    "        \n",
    "        # for the neural network to understand the company name we need to convert it to a number\n",
    "        df['company'] = i\n",
    "        i += 1\n",
    "        df = add_up_column(df)\n",
    "        processed_dfs.append(df)\n",
    "    \n",
    "    combined_df = pd.concat(processed_dfs, ignore_index=True)\n",
    "    \n",
    "    return combined_df\n",
    "\n",
    "df_full = combine_csvs_from_folder('market_data/merged_data')\n",
    "\n",
    "df_full.tail()"
   ]
  },
  {
   "cell_type": "code",
   "execution_count": 5,
   "metadata": {},
   "outputs": [
    {
     "name": "stdout",
     "output_type": "stream",
     "text": [
      "[5776, 11563, 13728, 18310, 24097, 29884, 35671, 38778, 44565, 50352, 54033]\n"
     ]
    }
   ],
   "source": [
    "#we need this for later\n",
    "def find_indices_of_test_rows(df):\n",
    "    indices = []\n",
    "    for i in range(1, len(df)):\n",
    "        if np.isnan(df.loc[i, 'up']):\n",
    "            indices.append(i-10)\n",
    "    return indices\n",
    "idxs = find_indices_of_test_rows(df_full)\n",
    "print(idxs)\n",
    "\n"
   ]
  },
  {
   "cell_type": "code",
   "execution_count": 6,
   "metadata": {},
   "outputs": [],
   "source": [
    "# we should one hot encode the company column\n",
    "# first we need to change it to a string so we can one hot encode it\n",
    "df_full['company'] = df_full['company'].astype(str)\n",
    "df_full = pd.get_dummies(df_full, columns=['company'])"
   ]
  },
  {
   "cell_type": "code",
   "execution_count": 7,
   "metadata": {},
   "outputs": [],
   "source": [
    "#drop nan rows\n",
    "df_train = df_full.dropna()"
   ]
  },
  {
   "cell_type": "code",
   "execution_count": 8,
   "metadata": {},
   "outputs": [
    {
     "name": "stdout",
     "output_type": "stream",
     "text": [
      "torch.Size([54033, 84])\n",
      "torch.Size([54033, 1])\n"
     ]
    }
   ],
   "source": [
    "# neural networks require tensors, so we need to convert our dataframes to tensors\n",
    "\n",
    "def df_to_tensor(df):\n",
    "    inputs_columns = df.columns[df.columns != 'up']\n",
    "    inputs = torch.from_numpy(df.loc[:, inputs_columns].values.astype('float32'))\n",
    "    targets = torch.from_numpy(df.loc[:, ['up']].values.astype('float32'))\n",
    "    return inputs, targets\n",
    "\n",
    "\n",
    "inputs, targets = df_to_tensor(df_train)\n",
    "print(inputs.shape)\n",
    "print(targets.shape)"
   ]
  },
  {
   "cell_type": "code",
   "execution_count": 9,
   "metadata": {},
   "outputs": [
    {
     "name": "stdout",
     "output_type": "stream",
     "text": [
      "torch.Size([54023, 10, 84])\n",
      "torch.Size([54023, 1])\n"
     ]
    }
   ],
   "source": [
    "def create_sequences(inputs, targets, seq_length):\n",
    "    seq_inputs = []\n",
    "    seq_targets = []\n",
    "    for i in range(len(inputs) - seq_length):\n",
    "        seq_inputs.append(inputs[i:i + seq_length])\n",
    "        seq_targets.append(targets[i + seq_length])\n",
    "    return torch.stack(seq_inputs), torch.stack(seq_targets)\n",
    "\n",
    "sequence_length = 10\n",
    "seq_inputs, seq_targets  = create_sequences(inputs, targets, sequence_length)\n",
    "\n",
    "print(seq_inputs.shape)\n",
    "print(seq_targets.shape)"
   ]
  },
  {
   "cell_type": "code",
   "execution_count": 10,
   "metadata": {},
   "outputs": [],
   "source": [
    "# making a training and validation dataset\n",
    "\n",
    "dataset = TensorDataset(seq_inputs, seq_targets)\n",
    "train_size = int(0.8 * len(dataset))\n",
    "val_size = len(dataset) - train_size\n",
    "train_dataset, val_dataset = random_split(dataset, [train_size, val_size])"
   ]
  },
  {
   "cell_type": "code",
   "execution_count": 11,
   "metadata": {},
   "outputs": [],
   "source": [
    "# pytorch uses dataloaders to load data in batches\n",
    "\n",
    "batch_size = 256\n",
    "train_loader = DataLoader(dataset, batch_size, shuffle = True, num_workers = 0)\n",
    "val_loader = DataLoader(val_dataset, 12, shuffle = False, num_workers = 0)"
   ]
  },
  {
   "cell_type": "code",
   "execution_count": 12,
   "metadata": {},
   "outputs": [
    {
     "name": "stdout",
     "output_type": "stream",
     "text": [
      "cuda:0\n"
     ]
    }
   ],
   "source": [
    "# use gpu if avaliable\n",
    "device = torch.device(\"cuda:0\" if torch.cuda.is_available() else \"cpu\")\n",
    "print(device)"
   ]
  },
  {
   "cell_type": "code",
   "execution_count": 13,
   "metadata": {},
   "outputs": [
    {
     "data": {
      "text/plain": [
       "LSTM_NN(\n",
       "  (lstm): LSTM(84, 256, num_layers=5, batch_first=True, dropout=0.2)\n",
       "  (fc): Linear(in_features=256, out_features=1, bias=True)\n",
       "  (sigmoid): Sigmoid()\n",
       ")"
      ]
     },
     "execution_count": 13,
     "metadata": {},
     "output_type": "execute_result"
    }
   ],
   "source": [
    "class LSTM_NN(nn.Module):\n",
    "    def __init__(self, input_size, hidden_size, num_layers, output_size):\n",
    "        super().__init__()\n",
    "        self.hidden_size = hidden_size\n",
    "        self.num_layers = num_layers\n",
    "        self.lstm = nn.LSTM(input_size, hidden_size, num_layers, batch_first=True, dropout=0.2)\n",
    "        self.fc = nn.Linear(hidden_size, output_size)\n",
    "        self.sigmoid = nn.Sigmoid()\n",
    "        \n",
    "    def forward(self, x):\n",
    "        h0 = torch.zeros(self.num_layers, x.size(0), self.hidden_size).to(x.device)\n",
    "        c0 = torch.zeros(self.num_layers, x.size(0), self.hidden_size).to(x.device)\n",
    "        out, _ = self.lstm(x, (h0, c0))\n",
    "        out = self.fc(out[:, -1, :])\n",
    "        out = self.sigmoid(out)\n",
    "        return out\n",
    "\n",
    "# input size is 84 because we have 84 columns in our dataframe\n",
    "# output size is 1 because we are predicting up=1 or down=0\n",
    "input_size = 84\n",
    "output_size = 1\n",
    "hidden_size = 256\n",
    "num_layers = 5\n",
    "model = LSTM_NN(input_size, hidden_size, num_layers, output_size)\n",
    "model.to(device)"
   ]
  },
  {
   "cell_type": "code",
   "execution_count": 14,
   "metadata": {},
   "outputs": [],
   "source": [
    "# hyperparameters for training\n",
    "criterion = nn.BCELoss()\n",
    "optimizer = optim.Adam(model.parameters(), lr=1e-4)\n",
    "num_epochs = 500"
   ]
  },
  {
   "cell_type": "code",
   "execution_count": 15,
   "metadata": {},
   "outputs": [
    {
     "name": "stdout",
     "output_type": "stream",
     "text": [
      "epoch: 1, avg_loss: 0.6930107148188465\n",
      "epoch: 10, avg_loss: 0.6919448378513444\n",
      "epoch: 20, avg_loss: 0.6916411707423767\n",
      "epoch: 30, avg_loss: 0.690731684835452\n",
      "epoch: 40, avg_loss: 0.6896720806945045\n",
      "epoch: 50, avg_loss: 0.6884923490150919\n",
      "epoch: 60, avg_loss: 0.6870692864341555\n",
      "epoch: 70, avg_loss: 0.6852536552919531\n",
      "epoch: 80, avg_loss: 0.6817328044266071\n",
      "epoch: 90, avg_loss: 0.6779067510703825\n",
      "epoch: 100, avg_loss: 0.6720043589484017\n",
      "epoch: 110, avg_loss: 0.6640439460862357\n",
      "epoch: 120, avg_loss: 0.6524216709834225\n",
      "epoch: 130, avg_loss: 0.6394227968071992\n",
      "epoch: 140, avg_loss: 0.6225951260553216\n",
      "epoch: 150, avg_loss: 0.6043886868458874\n",
      "epoch: 160, avg_loss: 0.5850109668835154\n",
      "epoch: 170, avg_loss: 0.5662223646100962\n",
      "epoch: 180, avg_loss: 0.5459670653601862\n",
      "epoch: 190, avg_loss: 0.5251683748836787\n",
      "epoch: 200, avg_loss: 0.5035979056133414\n",
      "epoch: 210, avg_loss: 0.48310564662206845\n",
      "epoch: 220, avg_loss: 0.4642316334933605\n",
      "epoch: 230, avg_loss: 0.4453178673701466\n",
      "epoch: 240, avg_loss: 0.41923493484281144\n",
      "epoch: 250, avg_loss: 0.40555193457963334\n",
      "epoch: 260, avg_loss: 0.3887838804215755\n",
      "epoch: 270, avg_loss: 0.36404633086245014\n",
      "epoch: 280, avg_loss: 0.3397074674238574\n",
      "epoch: 290, avg_loss: 0.3264293923341441\n",
      "epoch: 300, avg_loss: 0.3067198646658996\n",
      "epoch: 310, avg_loss: 0.3268501440871437\n",
      "epoch: 320, avg_loss: 0.27754185222229866\n",
      "epoch: 330, avg_loss: 0.2591112172406799\n",
      "epoch: 340, avg_loss: 0.24411659874022007\n",
      "epoch: 350, avg_loss: 0.2324177262566562\n",
      "epoch: 360, avg_loss: 0.21971739364682502\n",
      "epoch: 370, avg_loss: 0.2092575233271521\n",
      "epoch: 380, avg_loss: 0.18882604389679883\n",
      "epoch: 390, avg_loss: 0.18066428334645504\n",
      "epoch: 400, avg_loss: 0.20000787588925856\n",
      "epoch: 410, avg_loss: 0.15734528813440846\n",
      "epoch: 420, avg_loss: 0.15021467605992309\n",
      "epoch: 430, avg_loss: 0.13950542676842437\n",
      "epoch: 440, avg_loss: 0.13041697758829818\n",
      "epoch: 450, avg_loss: 0.12506484401957044\n",
      "epoch: 460, avg_loss: 0.11339333912638842\n",
      "epoch: 470, avg_loss: 0.1215299388859421\n",
      "epoch: 480, avg_loss: 0.10152222930436146\n",
      "epoch: 490, avg_loss: 0.10021681275289014\n",
      "epoch: 500, avg_loss: 0.08757247782382623\n"
     ]
    }
   ],
   "source": [
    "# training loop\n",
    "training_losses = []\n",
    "sequence_length = 10\n",
    "for epoch in range(1, num_epochs+1):\n",
    "    epoch_loss = 0\n",
    "    for batch in train_loader:\n",
    "        inputs, targets = batch\n",
    "        inputs = inputs.view(-1, sequence_length, input_size)\n",
    "        inputs, targets = inputs.to(device), targets.to(device)\n",
    "        # forward pass\n",
    "        outputs = model(inputs)\n",
    "        loss = criterion(outputs, targets)\n",
    "        \n",
    "        # backward pass\n",
    "        optimizer.zero_grad()\n",
    "        loss.backward()\n",
    "        optimizer.step()\n",
    "\n",
    "        epoch_loss += loss.item()\n",
    "    #average the loss over all batches\n",
    "    avg_loss = epoch_loss / len(train_loader)\n",
    "    training_losses.append(avg_loss)\n",
    "    if(epoch % 10 == 0 or epoch == 1):\n",
    "        print(f'epoch: {epoch}, avg_loss: {avg_loss}')"
   ]
  },
  {
   "cell_type": "code",
   "execution_count": 16,
   "metadata": {},
   "outputs": [
    {
     "data": {
      "image/png": "[encoded data removed]",
      "text/plain": [
       "<Figure size 640x480 with 1 Axes>"
      ]
     },
     "metadata": {},
     "output_type": "display_data"
    }
   ],
   "source": [
    "plt.plot(training_losses)\n",
    "plt.xlabel('Epoch')\n",
    "plt.ylabel('Loss')\n",
    "plt.title('Training Loss')\n",
    "plt.show()"
   ]
  },
  {
   "cell_type": "code",
   "execution_count": 17,
   "metadata": {},
   "outputs": [
    {
     "name": "stdout",
     "output_type": "stream",
     "text": [
      "tensor([0., 1., 1., 1., 0., 1., 1., 1., 1., 1., 1., 0.], device='cuda:0')\n",
      "tensor([0., 1., 1., 1., 0., 1., 1., 1., 1., 1., 1., 0.], device='cuda:0')\n",
      "val_loss: 0.039317016931745656, val_acc: 0.9861175381767701\n"
     ]
    }
   ],
   "source": [
    "def validate(model, dataloader, criterion):\n",
    "    model.eval() # Set the model to evaluation mode\n",
    "    val_loss = 0\n",
    "    correct = 0\n",
    "    total = 0\n",
    "    flag = 0\n",
    "    \n",
    "    with torch.no_grad(): # Disable gradient calculation for efficiency\n",
    "        for inputs, targets in dataloader:\n",
    "            inputs = inputs.view(-1, sequence_length, input_size)\n",
    "            inputs, targets = inputs.to(device), targets.to(device) # Move data to GPU if available\n",
    "            outputs = model(inputs)\n",
    "            loss = criterion(outputs, targets.float()) # BCE loss expects float inputs\n",
    "            val_loss += loss.item() * inputs.size(0) # Track total validation loss\n",
    "            \n",
    "            # Calculate accuracy\n",
    "            if flag == 0:\n",
    "                print(targets.view(-1))\n",
    "                print(torch.round(outputs.view(-1)))\n",
    "                flag = 1\n",
    "            predicted = torch.round(outputs)\n",
    "            total += targets.size(0)\n",
    "            correct += (predicted == targets).sum().item()\n",
    "    \n",
    "    # Calculate average validation loss and accuracy\n",
    "    val_loss /= len(dataloader.dataset)\n",
    "    accuracy = correct / total\n",
    "    \n",
    "    return val_loss, accuracy\n",
    "\n",
    "val_loss, val_acc = validate(model, val_loader, criterion)\n",
    "print(f'val_loss: {val_loss}, val_acc: {val_acc}')"
   ]
  },
  {
   "cell_type": "code",
   "execution_count": 36,
   "metadata": {},
   "outputs": [
    {
     "data": {
      "text/plain": [
       "tensor([[0.9943]], device='cuda:0', grad_fn=<SigmoidBackward0>)"
      ]
     },
     "execution_count": 36,
     "metadata": {},
     "output_type": "execute_result"
    }
   ],
   "source": [
    "#maybe works\n",
    "\n",
    "# how will visa do tomorrow? > 0.5 = up, < 0.5 = down\n",
    "inputs, targets = df_to_tensor(df_full)\n",
    "seq_inputs, seq_targets  = create_sequences(inputs, targets, sequence_length)\n",
    "model(seq_inputs[len(seq_inputs)-1].unsqueeze(0).to(device))"
   ]
  },
  {
   "cell_type": "code",
   "execution_count": 38,
   "metadata": {},
   "outputs": [
    {
     "name": "stdout",
     "output_type": "stream",
     "text": [
      "AAPL: 0.31\n",
      "AMZN: 0.00\n",
      "GOOG: 1.00\n",
      "GOOGL: 1.00\n",
      "MSFT: 1.00\n",
      "NVDA: 1.00\n",
      "PCAR: 0.00\n",
      "TSLA: 1.00\n",
      "TSM: 0.00\n",
      "UNH: 0.00\n"
     ]
    },
    {
     "ename": "IndexError",
     "evalue": "index 54034 is out of bounds for dimension 0 with size 54034",
     "output_type": "error",
     "traceback": [
      "\u001b[1;31m---------------------------------------------------------------------------\u001b[0m",
      "\u001b[1;31mIndexError\u001b[0m                                Traceback (most recent call last)",
      "Cell \u001b[1;32mIn[38], line 4\u001b[0m\n\u001b[0;32m      1\u001b[0m filenames \u001b[39m=\u001b[39m [os\u001b[39m.\u001b[39mpath\u001b[39m.\u001b[39msplitext(os\u001b[39m.\u001b[39mpath\u001b[39m.\u001b[39mbasename(f))[\u001b[39m0\u001b[39m] \u001b[39mfor\u001b[39;00m f \u001b[39min\u001b[39;00m os\u001b[39m.\u001b[39mlistdir(\u001b[39m\"\u001b[39m\u001b[39mmarket_data/merged_data/\u001b[39m\u001b[39m\"\u001b[39m) \u001b[39mif\u001b[39;00m f\u001b[39m.\u001b[39mendswith(\u001b[39m'\u001b[39m\u001b[39m.csv\u001b[39m\u001b[39m'\u001b[39m)]\n\u001b[0;32m      3\u001b[0m \u001b[39mfor\u001b[39;00m i, idx \u001b[39min\u001b[39;00m \u001b[39menumerate\u001b[39m(idxs):\n\u001b[1;32m----> 4\u001b[0m     \u001b[39mprint\u001b[39m(\u001b[39mf\u001b[39m\u001b[39m\"\u001b[39m\u001b[39m{\u001b[39;00mfilenames[i]\u001b[39m}\u001b[39;00m\u001b[39m: \u001b[39m\u001b[39m{\u001b[39;00mmodel(seq_inputs[idx\u001b[39m+\u001b[39m\u001b[39m1\u001b[39m]\u001b[39m.\u001b[39munsqueeze(\u001b[39m0\u001b[39m)\u001b[39m.\u001b[39mto(device))\u001b[39m.\u001b[39mitem()\u001b[39m:\u001b[39;00m\u001b[39m.2f\u001b[39m\u001b[39m}\u001b[39;00m\u001b[39m\"\u001b[39m)\n\u001b[0;32m      5\u001b[0m     \u001b[39m#see above for visa\u001b[39;00m\n",
      "\u001b[1;31mIndexError\u001b[0m: index 54034 is out of bounds for dimension 0 with size 54034"
     ]
    }
   ],
   "source": [
    "filenames = [os.path.splitext(os.path.basename(f))[0] for f in os.listdir(\"market_data/merged_data/\") if f.endswith('.csv')]\n",
    "\n",
    "for i, idx in enumerate(idxs):\n",
    "    print(f\"{filenames[i]}: {model(seq_inputs[idx+1].unsqueeze(0).to(device)).item():.2f}\")\n",
    "    #see above for visa\n"
   ]
  },
  {
   "cell_type": "code",
   "execution_count": null,
   "metadata": {},
   "outputs": [],
   "source": []
  }
 ],
 "metadata": {
  "kernelspec": {
   "display_name": "Python 3",
   "language": "python",
   "name": "python3"
  },
  "language_info": {
   "codemirror_mode": {
    "name": "ipython",
    "version": 3
   },
   "file_extension": ".py",
   "mimetype": "text/x-python",
   "name": "python",
   "nbconvert_exporter": "python",
   "pygments_lexer": "ipython3",
   "version": "3.8.16"
  },
  "orig_nbformat": 4
 },
 "nbformat": 4,
 "nbformat_minor": 2
}
